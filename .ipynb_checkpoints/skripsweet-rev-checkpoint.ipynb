{
 "cells": [
  {
   "cell_type": "code",
   "execution_count": 6,
   "metadata": {},
   "outputs": [],
   "source": [
    "import pandas as pd\n",
    "import numpy as np\n",
    "import scipy.cluster.hierarchy as sch\n",
    "from matplotlib import pyplot as plt\n",
    "from sklearn.cluster import AgglomerativeClustering \n",
    "from openpyxl import load_workbook\n",
    "from IPython.display import Image\n",
    "from sklearn.preprocessing import Imputer\n",
    "from sklearn import tree\n",
    "from subprocess import check_call\n",
    "import random as rd\n",
    "from sklearn.metrics import confusion_matrix, accuracy_score, recall_score, precision_score\n",
    "\n",
    "class Sweet(object):\n",
    "\n",
    "    def __init__(self, file):\n",
    "        print(file)\n",
    "#         wb = pd.read_excel(file)\n",
    "#         data = pd.DataFrame(wb.values)\n",
    "#         data.columns = ['M01','M02','M03','M04','M05','M06','M07','M08','M09','M010','M011','M012','M013','M014','M015','M016','M017','M018','M019','M020','M021','M022','M023','M024','M025','M026','M027','M028','M029','M030','M031','M032','M033','M034','M035','M036','M037','M038','M039','M040','M041','M042','M043','M044','M045','M046']\n",
    "#         # data.columns = [\"Lantai\", \"Dinding\", \"Ventilasi\", \"Pagar\", \"Ruang Pelayanan\", \"Luas Area\", \"Penyuluhan Program Bank Sampah\", \"Tersedia Wdah Sesuai Pemilahan\", \"Jumlah Pengurus\", \"Pendidikan ketua\", \"Sistem Gaji\", \"Pengelola mengikuti Pelatihan\", \"Rekapitulasi Hasil Perolehan\", \"Pengumpulan Sampah Nasabah Terjadwal\", \"Jadwal Pengumpulan Sampah\", \"Pengumpulan Rutin\", \"Aktivitas Penjualan Sampah Nasabah\", \"Bank Sampah Memiliki Kerjasama\", \"Jumlah Pengempul Sampah yang Bekerjasama\", \"Kerjasama Dengan Industri Daur Ulang Sampah\", \"Dijual Semua ke pengepul atau industri daur ulang\", \"Dimanfaatkan untuk pembuatan produk adur ulang\", \"Proses Monitoring dan evaluasi\", \"Proses Monitoring\", \"Monitoring dan Evaluasi terhadap pengurangan atau peningkatan jumlah nasabah\", \"Monitoring dan evaluasi terhadap jumlah simpan uang nasabah yang tersimpan\", \"Hasil Monitoring dan Evaluasi Pengelolaan Bank Sampah Tercatat dengan baik\", \"Hasil Monitoring dan evaluasi pengelolan bank sampah dilaporkan kepada  pemerintah kota melalui Dinas Lingkungan Hidup\", \"Tidak lanjut berdasarkan hasil monitoring dan evaluasi\", \"Jumlah Nasabah\", \"Nasabah Awal yang Ktif\", \"Modal Awal\", \"Kondisi Rata-Rata Berat Sampah Per Bulan\", \"Rata-Rata Berat Sampah Per Bulan\", \"Rata-Rata Hasil Tabungan Nasabah\", \"Rata-Rata Jumlah Penambahan Nasabah\", \"Rata-Rata Waktu Maksimal Nasabah Baru Bertahan\", \"Ketentuan Aturan Hukum Sesuai Bentuk Bank Sampah\", \"Ketetapan Harga Beli Sampah\", \"Aktivitas Simpan-Pinjam\", \"Penetapan Jam Kerja\", \"Sistem Bagi Hasil Penjualan\", \"Ketentuan Jelas Mengenai Kondisi Sampah\", \"Ketentuan Jelas Mengenai Berat Minimum Sampah\", \"Ketentuan Jelas Mengenai Jenis Sampah \", \"Tersedia Jasa Penjemputan Sampah\"]\n",
    "#         self.dataset = data\n",
    "        \n",
    "    def getData():\n",
    "        return self.dataset\n",
    "    \n",
    "    def Transform(data): \n",
    "        d = data.fillna(0)\n",
    "        new_df = list()\n",
    "        for i, row in d.iterrows():\n",
    "            v1 = 0\n",
    "            v2 = 0\n",
    "            v3 = 0\n",
    "            v4 = 0\n",
    "            offset = 0\n",
    "            vals = 0\n",
    "            for x in range(1,6):\n",
    "                vals += row[\"M0\"+ str(x + offset)]\n",
    "\n",
    "            v1 = vals\n",
    "\n",
    "            offset = 6\n",
    "            vals = 0\n",
    "            for x in range(1,6):\n",
    "                vals += row[\"M0\"+ str(x + offset)]\n",
    "\n",
    "            v2 = vals\n",
    "\n",
    "            offset = 12\n",
    "            vals = 0\n",
    "            for x in range(1,17):\n",
    "                vals += row[\"M0\"+ str(x + offset)]\n",
    "\n",
    "            v3 = vals \n",
    "\n",
    "            offset = 29\n",
    "            vals = 0\n",
    "            for x in range(1,17):\n",
    "                vals += row[\"M0\"+ str(x + offset)]\n",
    "\n",
    "            v4 = vals\n",
    "            new_df.append([v1*(10+ rd.random())/2,v2*(10+ rd.random())/2,v3 ,v4] )\n",
    "\n",
    "        X = pd.DataFrame(new_df).to_numpy()\n",
    "        return X\n",
    "    def Cluster(cluster = 4): \n",
    "        # membuat model\n",
    "        model = AgglomerativeClustering(n_clusters=cluster, affinity='euclidean', linkage = 'ward')\n",
    "        model.fit(X)\n",
    "        labels = model.labels_\n",
    "        return model \n",
    "    def Plot(cluster, X):\n",
    "        pc = dict()\n",
    "        for i in range(1, cluster):\n",
    "            pc[i] = list()\n",
    "            point =(X[labels==i,0],X[labels==i,1])\n",
    "            pc[i].append(point)\n",
    "        return pc\n",
    " "
   ]
  },
  {
   "cell_type": "markdown",
   "metadata": {},
   "source": [
    "### Seleksi Data"
   ]
  },
  {
   "cell_type": "code",
   "execution_count": 7,
   "metadata": {
    "scrolled": true
   },
   "outputs": [
    {
     "ename": "TypeError",
     "evalue": "getData() takes 0 positional arguments but 1 was given",
     "output_type": "error",
     "traceback": [
      "\u001b[0;31m---------------------------------------------------------------------------\u001b[0m",
      "\u001b[0;31mTypeError\u001b[0m                                 Traceback (most recent call last)",
      "\u001b[0;32m<ipython-input-7-9e6b773d129a>\u001b[0m in \u001b[0;36m<module>\u001b[0;34m\u001b[0m\n\u001b[1;32m      1\u001b[0m \u001b[0mdataset\u001b[0m \u001b[0;34m=\u001b[0m \u001b[0mSweet\u001b[0m\u001b[0;34m(\u001b[0m\u001b[0mfile\u001b[0m \u001b[0;34m=\u001b[0m \u001b[0;34m\"dataset.xlsx\"\u001b[0m\u001b[0;34m)\u001b[0m\u001b[0;34m\u001b[0m\u001b[0;34m\u001b[0m\u001b[0m\n\u001b[0;32m----> 2\u001b[0;31m \u001b[0mdataset\u001b[0m\u001b[0;34m.\u001b[0m\u001b[0mgetData\u001b[0m\u001b[0;34m(\u001b[0m\u001b[0;34m)\u001b[0m\u001b[0;34m\u001b[0m\u001b[0;34m\u001b[0m\u001b[0m\n\u001b[0m\u001b[1;32m      3\u001b[0m \u001b[0;34m\u001b[0m\u001b[0m\n\u001b[1;32m      4\u001b[0m \u001b[0;31m# dt = LoadData('dataset.xlsx')\u001b[0m\u001b[0;34m\u001b[0m\u001b[0;34m\u001b[0m\u001b[0;34m\u001b[0m\u001b[0m\n\u001b[1;32m      5\u001b[0m \u001b[0;31m# ds = Select(dt)\u001b[0m\u001b[0;34m\u001b[0m\u001b[0;34m\u001b[0m\u001b[0;34m\u001b[0m\u001b[0m\n",
      "\u001b[0;31mTypeError\u001b[0m: getData() takes 0 positional arguments but 1 was given"
     ]
    }
   ],
   "source": [
    "dataset = Sweet(file = \"dataset.xlsx\")\n",
    "dataset.getData()\n",
    "\n",
    "# dt = LoadData('dataset.xlsx')\n",
    "# ds = Select(dt)  \n",
    "# X = Transform(ds)\n",
    "# Plot(4, X)"
   ]
  },
  {
   "cell_type": "code",
   "execution_count": null,
   "metadata": {},
   "outputs": [],
   "source": []
  },
  {
   "cell_type": "markdown",
   "metadata": {},
   "source": [
    "### Tansformasi dan cleaning data yang 0"
   ]
  },
  {
   "cell_type": "markdown",
   "metadata": {},
   "source": [
    "### untuk menentukan dendrogram pada jarak terkecil pada data bank sampah"
   ]
  },
  {
   "cell_type": "code",
   "execution_count": null,
   "metadata": {},
   "outputs": [],
   "source": [
    "dendrogram = sch.dendrogram(sch.linkage(X, method='ward'))"
   ]
  }
 ],
 "metadata": {
  "kernelspec": {
   "display_name": "Python 3",
   "language": "python",
   "name": "python3"
  },
  "language_info": {
   "codemirror_mode": {
    "name": "ipython",
    "version": 3
   },
   "file_extension": ".py",
   "mimetype": "text/x-python",
   "name": "python",
   "nbconvert_exporter": "python",
   "pygments_lexer": "ipython3",
   "version": "3.7.4"
  }
 },
 "nbformat": 4,
 "nbformat_minor": 2
}
