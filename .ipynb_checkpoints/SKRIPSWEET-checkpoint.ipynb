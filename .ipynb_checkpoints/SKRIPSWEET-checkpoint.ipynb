{
 "cells": [
  {
   "cell_type": "code",
   "execution_count": 2,
   "metadata": {},
   "outputs": [],
   "source": [
    "import pandas as pd\n",
    "import numpy as np\n",
    "import scipy.cluster.hierarchy as sch\n",
    "from matplotlib import pyplot as plt\n",
    "from sklearn.cluster import AgglomerativeClustering \n",
    "from openpyxl import load_workbook\n",
    "from IPython.display import Image\n",
    "from sklearn.preprocessing import Imputer\n",
    "from sklearn import tree\n",
    "from subprocess import check_call\n",
    "import random as rd\n",
    "from sklearn.metrics import confusion_matrix, accuracy_score, recall_score, precision_score\n",
    "#mengimport library yg digunakan untuk load data excel dan library lainnya yg digunakan untuk proses clustering"
   ]
  },
  {
   "cell_type": "code",
   "execution_count": 35,
   "metadata": {
    "scrolled": true
   },
   "outputs": [],
   "source": [
    "class sweet(object):\n",
    "\n",
    "    def LoadData(path):\n",
    "        wb = pd.read_excel(path)\n",
    "        sheet_ranges = wb #load data\n",
    "        data = pd.DataFrame(sheet_ranges.values)\n",
    "        data.columns = [\"Lantai\", \"Dinding\", \"Ventilasi\", \"Pagar\", \"Ruang Pelayanan\", \"Luas Area\", \"Penyuluhan Program Bank Sampah\", \"Tersedia Wdah Sesuai Pemilahan\", \"Jumlah Pengurus\", \"Pendidikan ketua\", \"Sistem Gaji\", \"Pengelola mengikuti Pelatihan\", \"Rekapitulasi Hasil Perolehan\", \"Pengumpulan Sampah Nasabah Terjadwal\", \"Jadwal Pengumpulan Sampah\", \"Pengumpulan Rutin\", \"Aktivitas Penjualan Sampah Nasabah\", \"Bank Sampah Memiliki Kerjasama\", \"Jumlah Pengempul Sampah yang Bekerjasama\", \"Kerjasama Dengan Industri Daur Ulang Sampah\", \"Dijual Semua ke pengepul atau industri daur ulang\", \"Dimanfaatkan untuk pembuatan produk adur ulang\", \"Proses Monitoring dan evaluasi\", \"Proses Monitoring\", \"Monitoring dan Evaluasi terhadap pengurangan atau peningkatan jumlah nasabah\", \"Monitoring dan evaluasi terhadap jumlah simpan uang nasabah yang tersimpan\", \"Hasil Monitoring dan Evaluasi Pengelolaan Bank Sampah Tercatat dengan baik\", \"Hasil Monitoring dan evaluasi pengelolan bank sampah dilaporkan kepada  pemerintah kota melalui Dinas Lingkungan Hidup\", \"Tidak lanjut berdasarkan hasil monitoring dan evaluasi\", \"Jumlah Nasabah\", \"Nasabah Awal yang Ktif\", \"Modal Awal\", \"Kondisi Rata-Rata Berat Sampah Per Bulan\", \"Rata-Rata Berat Sampah Per Bulan\", \"Rata-Rata Hasil Tabungan Nasabah\", \"Rata-Rata Jumlah Penambahan Nasabah\", \"Rata-Rata Waktu Maksimal Nasabah Baru Bertahan\", \"Ketentuan Aturan Hukum Sesuai Bentuk Bank Sampah\", \"Ketetapan Harga Beli Sampah\", \"Aktivitas Simpan-Pinjam\", \"Penetapan Jam Kerja\", \"Sistem Bagi Hasil Penjualan\", \"Ketentuan Jelas Mengenai Kondisi Sampah\", \"Ketentuan Jelas Mengenai Berat Minimum Sampah\", \"Ketentuan Jelas Mengenai Jenis Sampah \", \"Tersedia Jasa Penjemputan Sampah\"]\n",
    "        return data\n",
    "\n",
    "dt = LoadData('database.xlsx')"
   ]
  },
  {
   "cell_type": "markdown",
   "metadata": {},
   "source": [
    "### Seleksi Data"
   ]
  },
  {
   "cell_type": "code",
   "execution_count": 42,
   "metadata": {
    "scrolled": true
   },
   "outputs": [],
   "source": [
    "def Select(data):\n",
    "    datatrans = data\n",
    "    datatrans.columns = ['M01','M02','M03','M04','M05','M06','M07','M08','M09','M010','M011','M012','M013','M014','M015','M016','M017','M018','M019','M020','M021','M022','M023','M024','M025','M026','M027','M028','M029','M030','M031','M032','M033','M034','M035','M036','M037','M038','M039','M040','M041','M042','M043','M044','M045','M046']\n",
    "    return datatrans \n",
    "ds = Select(dt) "
   ]
  },
  {
   "cell_type": "markdown",
   "metadata": {},
   "source": [
    "### Tansformasi dan cleaning data yang 0"
   ]
  },
  {
   "cell_type": "code",
   "execution_count": 40,
   "metadata": {
    "scrolled": false
   },
   "outputs": [],
   "source": [
    "def Transform(data): \n",
    "    d = data.fillna(0)\n",
    "    new_df = list()\n",
    "    for i, row in d.iterrows():\n",
    "        v1 = 0\n",
    "        v2 = 0\n",
    "        v3 = 0\n",
    "        v4 = 0\n",
    "        offset = 0\n",
    "        vals = 0\n",
    "        for x in range(1,6):\n",
    "            vals += row[\"M0\"+ str(x + offset)]\n",
    "\n",
    "        v1 = vals\n",
    "\n",
    "        offset = 6\n",
    "        vals = 0\n",
    "        for x in range(1,6):\n",
    "            vals += row[\"M0\"+ str(x + offset)]\n",
    "\n",
    "        v2 = vals\n",
    "\n",
    "        offset = 12\n",
    "        vals = 0\n",
    "        for x in range(1,17):\n",
    "            vals += row[\"M0\"+ str(x + offset)]\n",
    "\n",
    "        v3 = vals \n",
    "\n",
    "        offset = 29\n",
    "        vals = 0\n",
    "        for x in range(1,17):\n",
    "            vals += row[\"M0\"+ str(x + offset)]\n",
    "\n",
    "        v4 = vals\n",
    "        new_df.append([v1*(10+ rd.random())/2,v2*(10+ rd.random())/2,v3 ,v4] )\n",
    " \n",
    "    X = pd.DataFrame(new_df).to_numpy()\n",
    "    return X\n",
    "\n",
    "\n",
    "X = Transform(ds)"
   ]
  },
  {
   "cell_type": "code",
   "execution_count": null,
   "metadata": {
    "scrolled": true
   },
   "outputs": [],
   "source": []
  },
  {
   "cell_type": "code",
   "execution_count": null,
   "metadata": {},
   "outputs": [],
   "source": []
  },
  {
   "cell_type": "markdown",
   "metadata": {},
   "source": [
    "### untuk menentukan dendrogram pada jarak terkecil pada data bank sampah"
   ]
  },
  {
   "cell_type": "code",
   "execution_count": 41,
   "metadata": {},
   "outputs": [
    {
     "data": {
      "image/png": "[encoded data removed]",
      "text/plain": [
       "<Figure size 432x288 with 1 Axes>"
      ]
     },
     "metadata": {
      "needs_background": "light"
     },
     "output_type": "display_data"
    }
   ],
   "source": [
    "dendrogram = sch.dendrogram(sch.linkage(X, method='ward'))"
   ]
  },
  {
   "cell_type": "code",
   "execution_count": 9,
   "metadata": {},
   "outputs": [],
   "source": [
    "def Cluster():\n",
    "    # Menetukan jumlah cluster\n",
    "    cluster = 5\n",
    "\n",
    "    # membuat model\n",
    "    model = AgglomerativeClustering(n_clusters=cluster, affinity='euclidean', linkage = 'ward')\n",
    "    model.fit(X)\n",
    "    labels = model.labels_"
   ]
  },
  {
   "cell_type": "markdown",
   "metadata": {},
   "source": [
    "#untuk menentukan label plt data bank sampah"
   ]
  },
  {
   "cell_type": "code",
   "execution_count": 21,
   "metadata": {},
   "outputs": [
    {
     "data": {
      "image/png": "[encoded data removed]",
      "text/plain": [
       "<Figure size 1440x720 with 1 Axes>"
      ]
     },
     "metadata": {
      "needs_background": "light"
     },
     "output_type": "display_data"
    }
   ],
   "source": [
    "label = range(1, 11)\n",
    "plt.figure(figsize=(20, 10))\n",
    "plt.subplots_adjust(bottom=0.1) \n",
    "colors = ['grey','g', 'red', 'orange',\"blue\",\"m\",'yellow', 'cyan']\n",
    "li = list()\n",
    "ll = list()\n",
    "for i in range(1, cluster):\n",
    "    li.append(plt.scatter(X[labels==i,0],X[labels==i,1], s=30,  color=colors[i] , label= str(i)))\n",
    "    ll.append(f\"Cluster {i}\")\n",
    "\n",
    "plt.legend(li,ll, scatterpoints = 1, loc = 'lower left', ncol = 3, fontsize = 20) \n",
    "\n",
    "'''\n",
    "for label, x, y in zip(label, X[:, 0], X[:, 1]):\n",
    "   plt.annotate(\n",
    "        label,\n",
    "        xy=(x, y), xytext=(-3, 3),\n",
    "        textcoords='offset points', ha='right', va='bottom')\n",
    " '''      \n",
    "        \n",
    "plt.show()"
   ]
  },
  {
   "cell_type": "code",
   "execution_count": null,
   "metadata": {},
   "outputs": [],
   "source": []
  }
 ],
 "metadata": {
  "kernelspec": {
   "display_name": "Python 3",
   "language": "python",
   "name": "python3"
  },
  "language_info": {
   "codemirror_mode": {
    "name": "ipython",
    "version": 3
   },
   "file_extension": ".py",
   "mimetype": "text/x-python",
   "name": "python",
   "nbconvert_exporter": "python",
   "pygments_lexer": "ipython3",
   "version": "3.7.4"
  }
 },
 "nbformat": 4,
 "nbformat_minor": 2
}
